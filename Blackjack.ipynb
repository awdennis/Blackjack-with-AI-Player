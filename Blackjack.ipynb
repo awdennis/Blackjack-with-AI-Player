{
 "cells": [
  {
   "cell_type": "markdown",
   "metadata": {},
   "source": [
    "# Blackjack with AI Player"
   ]
  },
  {
   "cell_type": "markdown",
   "metadata": {},
   "source": [
    "Insert introduction discussion"
   ]
  },
  {
   "cell_type": "code",
   "execution_count": 212,
   "metadata": {},
   "outputs": [],
   "source": [
    "import random\n",
    "\n",
    "class Blackjack:\n",
    "    \n",
    "    MOVES = ['Hit', 'Double Down', 'Split', 'Stand', 'Surrender']\n",
    "    \n",
    "    def __init__(self):\n",
    "        self.deck = Deck()\n",
    "        self.player = Player()\n",
    "    \n",
    "    def hit(self):\n",
    "        return self.deck.draw()\n",
    "        \n",
    "\n",
    "class Player:\n",
    "    \n",
    "    def __init__(self):\n",
    "        self.money = 5000\n",
    "        self.bet = 0\n",
    "        self.hands = [Hand()]\n",
    "        \n",
    "    \n",
    "    def doubleDown(self):\n",
    "        self.bet *= 2\n",
    "    \n",
    "    def split(self, hand):\n",
    "        newHand = Hand(self.hands.index(hand).removeCard())\n",
    "        self.hands.append(newHand)\n",
    "        \n",
    "    def surrender(self):\n",
    "        return\n",
    "    \n",
    "    # bet a flat $50 \n",
    "    def betMoney(self):\n",
    "        self.bet = 50\n",
    "        \n",
    "    def showHands(self):\n",
    "        print(\"Player has %d hands: \" % len(self.hands))\n",
    "        \n",
    "        for hand in self.hands:\n",
    "            #print(hand)\n",
    "            return\n",
    "        \n",
    "        \n",
    "class Hand:\n",
    "    \n",
    "    def __init__(self, card = None):\n",
    "        if card:\n",
    "            self.hand = [card]\n",
    "        else:\n",
    "            self.hand = []\n",
    "        \n",
    "    def addCard(self, card):\n",
    "        self.hand.append(card)\n",
    "    \n",
    "    def removeCard(self):\n",
    "        return self.hand.pop()\n",
    "    \n",
    "    def __str__(self):\n",
    "        return str([card.name for card in self.hand])\n",
    "    \n",
    "    \n",
    "class Deck:\n",
    "    \n",
    "    def __init__(self):\n",
    "        self.deck = self.buildDeck()\n",
    "        self.prepareDeck()\n",
    "        \n",
    "    def buildDeck(self):\n",
    "        deck = []\n",
    "        \n",
    "        for i in range(4):\n",
    "            for j in range(len(Card.CARDS)):\n",
    "                deck.append(Card(Card.CARDS[j]))\n",
    "                \n",
    "        return deck\n",
    "    \n",
    "    # shuffle the deck 7 times to prepare it to be used - 7 times is the researched number \n",
    "    # of times necassary to consider a deck of 52 cards as properly shuffled\n",
    "    def prepareDeck(self):\n",
    "        for i in range(7):\n",
    "            self.shuffle()\n",
    "    \n",
    "    def shuffle(self):\n",
    "        random.shuffle(self.deck)      \n",
    "    def draw(self):\n",
    "        card = self.deck.pop(0)\n",
    "        return card\n",
    "    def __len__(self):\n",
    "        return len(self.deck)\n",
    "    \n",
    "    def __str__(self):\n",
    "        return str([card.name for card in self.deck])\n",
    "        \n",
    "class Card:\n",
    "    \n",
    "    FACES = {'A': 1, 'J': 10, 'Q': 10, 'K': 10}\n",
    "    CARDS = ['A', '2', '3', '4', '5', '6', '7', '8', '9', '10', 'J', 'Q', 'K']\n",
    "    \n",
    "    def __init__(self, name):\n",
    "        self.name = name\n",
    "    def __str__(self):\n",
    "        return \"{0.name}\".format(self)\n",
    "    \n",
    "    @property \n",
    "    def value(self):\n",
    "        return self.FACES.get(self.name, self.name)"
   ]
  },
  {
   "cell_type": "code",
   "execution_count": 215,
   "metadata": {},
   "outputs": [
    {
     "name": "stdout",
     "output_type": "stream",
     "text": [
      "52\n",
      "['J', 'A', 'Q', 'J', '9', 'K', '3', '10', '10', '10', 'K', '6', '5', 'K', '7', '8', '9', '2', '7', '6', '9', 'Q', '10', '6', '4', '2', '7', '5', '2', '4', '3', 'K', '4', 'J', '8', 'Q', '3', 'Q', 'A', '5', '6', '3', '5', 'A', '8', 'A', '2', '9', '4', '7', 'J', '8']\n",
      "J\n",
      "51\n",
      "Player has 1 hands: \n",
      "None\n"
     ]
    }
   ],
   "source": [
    "game = Blackjack()\n",
    "print(len(game.deck))\n",
    "print(game.deck)\n",
    "print(game.hit())\n",
    "print(len(game.deck))\n",
    "\n",
    "game.player.hands[0].addCard(game.hit())\n",
    "print(game.player.showHands())"
   ]
  },
  {
   "cell_type": "code",
   "execution_count": null,
   "metadata": {
    "collapsed": true
   },
   "outputs": [],
   "source": []
  }
 ],
 "metadata": {
  "kernelspec": {
   "display_name": "Python 3",
   "language": "python",
   "name": "python3"
  },
  "language_info": {
   "codemirror_mode": {
    "name": "ipython",
    "version": 3
   },
   "file_extension": ".py",
   "mimetype": "text/x-python",
   "name": "python",
   "nbconvert_exporter": "python",
   "pygments_lexer": "ipython3",
   "version": "3.6.1"
  }
 },
 "nbformat": 4,
 "nbformat_minor": 2
}
